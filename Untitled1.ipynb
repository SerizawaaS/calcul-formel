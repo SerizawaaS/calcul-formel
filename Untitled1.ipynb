{
 "cells": [
  {
   "cell_type": "code",
   "execution_count": 2,
   "metadata": {},
   "outputs": [],
   "source": [
    "from sage.all import *"
   ]
  },
  {
   "cell_type": "code",
   "execution_count": null,
   "metadata": {},
   "outputs": [],
   "source": []
  },
  {
   "cell_type": "code",
   "execution_count": 3,
   "metadata": {},
   "outputs": [],
   "source": [
    "def entiersenbaseb(X,b): #représentation d'un entier en base b ,l'entier X sera la somme des éléments du tableau multiplié par les coefficient du tableau puissance la puissance adéquate)\n",
    "    R=[]\n",
    "    i=0\n",
    "    while(X!=0):\n",
    "        q=X//b\n",
    "        R.append(X%b)\n",
    "        X=q\n",
    "    R.reverse()\n",
    "    return R"
   ]
  },
  {
   "cell_type": "code",
   "execution_count": 4,
   "metadata": {},
   "outputs": [],
   "source": [
    "def normalisation(x,y):#donner la meme taille a la représentation pour pouvoir sommer\n",
    "    z=[]\n",
    "    w=[]\n",
    "    z.extend(x)#rajouter x a la fin de z\n",
    "    w.extend(y)\n",
    "    d=len(y)-len(x)\n",
    "    if(d>0):\n",
    "        z.reverse()\n",
    "        for i in range(abs(d)):\n",
    "            z.append(0)\n",
    "        z.reverse()\n",
    "    if(d<0):\n",
    "        w.reverse()\n",
    "        for i in range(abs(d)):\n",
    "            w.append(0)\n",
    "        w.reverse()\n",
    "    else:\n",
    "        z=z\n",
    "        w=w\n",
    "    return z,w\n",
    "        "
   ]
  },
  {
   "cell_type": "code",
   "execution_count": 5,
   "metadata": {},
   "outputs": [
    {
     "name": "stdout",
     "output_type": "stream",
     "text": [
      "([1, 0, 1, 1, 0], [0, 0, 1, 0, 1])\n"
     ]
    }
   ],
   "source": [
    "x=entiersenbaseb(22,2)\n",
    "y=entiersenbaseb(5,2)\n",
    "A=normalisation(x,y)\n",
    "print(A)\n"
   ]
  },
  {
   "cell_type": "code",
   "execution_count": 6,
   "metadata": {},
   "outputs": [],
   "source": [
    "def additiondentiersmultiprecisionenbaseb(x,y,b):#addition d'entiers multi precision reversepar ce qu'on construit le tableau de reponse dans le sens inverse\n",
    "    x=normalisation(x,y)[0]\n",
    "    y=normalisation(x,y)[1]\n",
    "    d=len(x)-1\n",
    "    z=[]\n",
    "    w=[]\n",
    "    z=matrix(x)\n",
    "    w=matrix(y)\n",
    "    R=[]\n",
    "    r=0\n",
    "    for i in range(d,-1,-1):\n",
    "        a=z[0,i]+w[0,i]+r\n",
    "        if(a>=b):\n",
    "            s=a-b\n",
    "            r=1\n",
    "            R.append(s)\n",
    "        else:\n",
    "            s=a\n",
    "            r=0\n",
    "            R.append(s)\n",
    "    if(r==0):\n",
    "        print(\"pas de retenue\")\n",
    "    else:\n",
    "        R.append(r)\n",
    "    R.reverse()\n",
    "    return R\n",
    "    \n",
    "        \n",
    "        \n",
    "    \n",
    "    "
   ]
  },
  {
   "cell_type": "code",
   "execution_count": null,
   "metadata": {},
   "outputs": [],
   "source": []
  },
  {
   "cell_type": "code",
   "execution_count": 7,
   "metadata": {},
   "outputs": [
    {
     "name": "stdout",
     "output_type": "stream",
     "text": [
      "([0, 1, 0, 1], [1, 0, 1, 0])\n",
      "pas de retenue\n",
      "[1, 1, 1, 1]\n"
     ]
    }
   ],
   "source": [
    "x=entiersenbaseb(5,2)\n",
    "y=entiersenbaseb(10,2)\n",
    "A=normalisation(x,y)[0]\n",
    "B=normalisation(x,y)[1]\n",
    "print(A,B)\n",
    "C=additiondentiersmultiprecisionenbaseb(A,B,2)\n",
    "print(C)\n"
   ]
  },
  {
   "cell_type": "code",
   "execution_count": 8,
   "metadata": {},
   "outputs": [],
   "source": [
    "def karatsuba2(a,b):\n",
    "    x=entiersenbaseb(a,2)\n",
    "    y=entiersenbaseb(b,2)\n",
    "    c=normalisation(x,y)[0]\n",
    "    d=normalisation(x,y)[1]\n",
    "    if((len(c)%2)!=0):\n",
    "        c.reverse()\n",
    "        c.append(0)\n",
    "        c.reverse()\n",
    "        d.reverse()\n",
    "        d.append(0)\n",
    "        d.reverse()\n",
    "    x=[]\n",
    "    y=[]\n",
    "    z=[]\n",
    "    t=[]\n",
    "    for i in range(len(c)/2):\n",
    "        x.append(c[i])\n",
    "    for i in range(len(c)/2,len(c)):\n",
    "        y.append(c[i])\n",
    "    for i in range(len(d)/2):\n",
    "        z.append(d[i])\n",
    "    for i in range(len(d)/2,len(d)):\n",
    "        t.append(d[i])\n",
    "    A0=0\n",
    "    B0=0\n",
    "    C0=0\n",
    "    D0=0\n",
    "    for i in range(len(c)/2):\n",
    "        A0=A0+(2**i)*c[i]\n",
    "    for i in range(len(c)/2,len(c)):\n",
    "        B0=B0+(2**i)*(c[i])\n",
    "    for i in range(len(d)/2):\n",
    "        C0=C0+(2**i)*d[i]\n",
    "    for i in range(len(d)/2):\n",
    "        D0=D0+(2**i)*d[i]\n",
    "    e=karatsuba(A0,C0)\n",
    "    f=karatsuba(B0,D0)\n",
    "    print(e,f)\n",
    "    g=additiondentiersmultiprecisionenbaseb(A0,B0,2)\n",
    "    h=additiondentiersmultiprecisionenbaseb(C0,D0,2)\n",
    "    v=karatsuba(z,t)\n",
    "    w=v-e-f\n",
    "    p=e+(2**(len(c)))*w+(2**(2*len(c)))*f\n",
    "    p=entiersenbaseb(p,2)\n",
    "    return p\n",
    "    \n",
    "    "
   ]
  },
  {
   "cell_type": "code",
   "execution_count": 9,
   "metadata": {},
   "outputs": [],
   "source": [
    "#karatsuba en base 10 plus facile\n",
    "def karatsuba(x,y):\n",
    "    if len(str(x)) == 1 or len(str(y)) == 1:\n",
    "        return x*y\n",
    "    else:\n",
    "        n = max(len(str(x)),len(str(y)))\n",
    "        nby2 = n // 2\n",
    "        a = x // 10**(nby2)\n",
    "        b = x % 10**(nby2)\n",
    "        c = y // 10**(nby2)\n",
    "        d = y % 10**(nby2)\n",
    "        ac = karatsuba(a,c)\n",
    "        bd = karatsuba(b,d)\n",
    "        ad_plus_bc = karatsuba(a+b,c+d) - ac - bd\n",
    "    # this little trick, writing n as 2*nby2 takes care of both even and odd n\n",
    "        prod = ac * 10**(2*nby2) + (ad_plus_bc * 10**nby2) + bd\n",
    "    return(prod)"
   ]
  },
  {
   "cell_type": "code",
   "execution_count": 10,
   "metadata": {},
   "outputs": [
    {
     "name": "stdout",
     "output_type": "stream",
     "text": [
      "[1, 0, 1, 0, 0, 0, 1, 0, 1]\n"
     ]
    }
   ],
   "source": [
    "x=entiersenbaseb(5,2)\n",
    "y=entiersenbaseb(10,2)\n",
    "A=normalisation(x,y)[0]\n",
    "B=normalisation(x,y)[1]\n",
    "e=karatsuba(25,13)\n",
    "e=entiersenbaseb(e,2)\n",
    "print(e)\n"
   ]
  },
  {
   "cell_type": "code",
   "execution_count": 11,
   "metadata": {},
   "outputs": [],
   "source": [
    "def exponentiationrapid(x,y,b):#calcul rapide de a^t en base b on m divison euclidienne on incrémente c comme ça pour doubler la puisssance\n",
    "    g=entiersenbaseb(y,b)\n",
    "    h=1\n",
    "    c=x\n",
    "    print(g)\n",
    "    for k in range(len(g)-1,-1,-1):\n",
    "        if(g[k])==1:\n",
    "            h=h*c\n",
    "        else:\n",
    "            h=h*1\n",
    "        c=c*c\n",
    "    return h\n",
    "        \n",
    "        \n",
    "    \n",
    "    "
   ]
  },
  {
   "cell_type": "code",
   "execution_count": 12,
   "metadata": {},
   "outputs": [],
   "source": [
    "def exp2(x,y):#la meilleure\n",
    "    h=1\n",
    "    c=x\n",
    "    k=y\n",
    "    while(k>0):\n",
    "        if (k%2)==1:\n",
    "            h=h*c\n",
    "        else:\n",
    "            h=h*1\n",
    "        c=c*c\n",
    "        k=k//2\n",
    "    return h\n",
    "        \n",
    "    "
   ]
  },
  {
   "cell_type": "code",
   "execution_count": 13,
   "metadata": {},
   "outputs": [],
   "source": [
    "def exponentiationnaive(a,b):\n",
    "    p=1\n",
    "    for i in range(b-1):\n",
    "        p=p*a\n",
    "    return p\n",
    "    "
   ]
  },
  {
   "cell_type": "code",
   "execution_count": 14,
   "metadata": {},
   "outputs": [
    {
     "name": "stdout",
     "output_type": "stream",
     "text": [
      "[1, 1, 1, 1, 0]\n"
     ]
    },
    {
     "data": {
      "text/plain": [
       "1073741824"
      ]
     },
     "execution_count": 14,
     "metadata": {},
     "output_type": "execute_result"
    }
   ],
   "source": [
    "exponentiationrapid(2,30,2)\n",
    "#%time exponentiationnaive(2,30)\n",
    "#%time exp2(2,30)\n"
   ]
  },
  {
   "cell_type": "code",
   "execution_count": 15,
   "metadata": {},
   "outputs": [
    {
     "data": {
      "text/plain": [
       "1073741824"
      ]
     },
     "execution_count": 15,
     "metadata": {},
     "output_type": "execute_result"
    }
   ],
   "source": [
    "2**30"
   ]
  },
  {
   "cell_type": "code",
   "execution_count": 16,
   "metadata": {},
   "outputs": [],
   "source": [
    "def euclide(x,y):#euclide naif\n",
    "    if(y>x):\n",
    "        a=x\n",
    "        x=y\n",
    "        y=a\n",
    "    while(y!=0):\n",
    "        r=x%y\n",
    "        x=y\n",
    "        y=r\n",
    "\n",
    "    return x"
   ]
  },
  {
   "cell_type": "code",
   "execution_count": 17,
   "metadata": {},
   "outputs": [
    {
     "data": {
      "text/plain": [
       "9"
      ]
     },
     "execution_count": 17,
     "metadata": {},
     "output_type": "execute_result"
    }
   ],
   "source": [
    "euclide(9,18)"
   ]
  },
  {
   "cell_type": "code",
   "execution_count": 18,
   "metadata": {},
   "outputs": [],
   "source": [
    "def euclidetendu(x,y):#euclide etendu attention dans le cas ou y divise x il n'affiche pas les bon coeff\n",
    "    a=1\n",
    "    aa=0\n",
    "    b=0\n",
    "    bb=1\n",
    "    while(y!=0):\n",
    "        e=a\n",
    "        f=aa\n",
    "        g=b\n",
    "        h=bb\n",
    "        r=x%y\n",
    "        q=x//y\n",
    "        a=g\n",
    "        aa=h\n",
    "        b=e-g*q\n",
    "        bb=f-q*bb\n",
    "        x=y\n",
    "        y=r\n",
    "    return(x,a,aa)\n",
    "        \n",
    "        \n",
    "        "
   ]
  },
  {
   "cell_type": "code",
   "execution_count": 19,
   "metadata": {},
   "outputs": [
    {
     "name": "stdout",
     "output_type": "stream",
     "text": [
      "(1, -8, 13)\n",
      "(17, -1, 3)\n",
      "(13, -2, 3)\n",
      "(7, -53, 145)\n"
     ]
    }
   ],
   "source": [
    "print(euclidetendu(34,21))\n",
    "print(euclidetendu(136,51))\n",
    "print(euclidetendu(481,325))\n",
    "print(euclidetendu(8771,3206))"
   ]
  },
  {
   "cell_type": "code",
   "execution_count": 20,
   "metadata": {},
   "outputs": [],
   "source": [
    "def pgcd(m,n):#pgcd par divisions reccursives\n",
    "    if (m==n):\n",
    "        return m\n",
    "    elif (m%2==0) and (n%2==0):\n",
    "        return 2*pgcd(m/2,n/2)\n",
    "    elif (m%2==0): # n est alors impair\n",
    "        return pgcd(m/2,n)\n",
    "    elif (n%2==0):\n",
    "        return pgcd(m,n/2)\n",
    "    elif (m>n):\n",
    "        return pgcd((m-n)/2,n)\n",
    "    else:\n",
    "        return pgcd((n-m)/2,m)"
   ]
  },
  {
   "cell_type": "code",
   "execution_count": 21,
   "metadata": {},
   "outputs": [
    {
     "name": "stdout",
     "output_type": "stream",
     "text": [
      "1\n",
      "17\n",
      "13\n",
      "7\n"
     ]
    }
   ],
   "source": [
    "print(pgcd(34,21))\n",
    "print(pgcd(136,51))\n",
    "print(pgcd(481,325))\n",
    "print(pgcd(8771,3206))"
   ]
  },
  {
   "cell_type": "code",
   "execution_count": 22,
   "metadata": {},
   "outputs": [],
   "source": [
    "def pgcd2(m,n):#pgcd par divisions reccursives avec calcul des coefficients de bezout pas reussi\n",
    "    a=1\n",
    "    b=1\n",
    "    if (m==n):\n",
    "        return m\n",
    "    elif (m%2==0) and (n%2==0):\n",
    "        a=2*a\n",
    "        b=2*b\n",
    "        return (2*pgcd(m/2,n/2),a,b)\n",
    "    elif (m%2==0): # n est alors impair\n",
    "        a=a*2\n",
    "        return pgcd(m/2,n),a,b\n",
    "    elif (n%2==0):\n",
    "        b=2*b\n",
    "        return (pgcd(m,n/2),a,b)\n",
    "    elif (m>n):\n",
    "        a=(b-a)*2\n",
    "        return (pgcd((m-n)/2,n),a,b)\n",
    "    else:\n",
    "        b=(a-b)*2\n",
    "        return (((n-m)/2,m),a,b)\n",
    "    return (d,a,b)"
   ]
  },
  {
   "cell_type": "code",
   "execution_count": 23,
   "metadata": {},
   "outputs": [
    {
     "data": {
      "text/plain": [
       "(17, 2, 1)"
      ]
     },
     "execution_count": 23,
     "metadata": {},
     "output_type": "execute_result"
    }
   ],
   "source": [
    "pgcd2(136,51)"
   ]
  },
  {
   "cell_type": "code",
   "execution_count": 24,
   "metadata": {},
   "outputs": [],
   "source": [
    "def Bezreccursif(m,n):#bezout reccursif \n",
    "    if (n==0):\n",
    "        return [1,0]\n",
    "    else:\n",
    "        aux=Bezreccursif(n,m%n)\n",
    "    return [aux[1],aux[0]-m//n*aux[1]]\n"
   ]
  },
  {
   "cell_type": "code",
   "execution_count": 25,
   "metadata": {},
   "outputs": [
    {
     "data": {
      "text/plain": [
       "[-1, 3]"
      ]
     },
     "execution_count": 25,
     "metadata": {},
     "output_type": "execute_result"
    }
   ],
   "source": [
    "Bezreccursif(136,51)"
   ]
  },
  {
   "cell_type": "code",
   "execution_count": 26,
   "metadata": {},
   "outputs": [],
   "source": [
    "def fibonaci(n):#fibonacci\n",
    "    F=[]\n",
    "    F.append(1)\n",
    "    F.append(1)\n",
    "    for i in range(2,n+1):\n",
    "        F.append(F[i-1]+F[i-2])\n",
    "    return (F,F[len(F)-1])"
   ]
  },
  {
   "cell_type": "code",
   "execution_count": 27,
   "metadata": {},
   "outputs": [
    {
     "data": {
      "text/plain": [
       "([1,\n",
       "  1,\n",
       "  2,\n",
       "  3,\n",
       "  5,\n",
       "  8,\n",
       "  13,\n",
       "  21,\n",
       "  34,\n",
       "  55,\n",
       "  89,\n",
       "  144,\n",
       "  233,\n",
       "  377,\n",
       "  610,\n",
       "  987,\n",
       "  1597,\n",
       "  2584,\n",
       "  4181,\n",
       "  6765,\n",
       "  10946,\n",
       "  17711,\n",
       "  28657,\n",
       "  46368,\n",
       "  75025,\n",
       "  121393,\n",
       "  196418,\n",
       "  317811,\n",
       "  514229,\n",
       "  832040,\n",
       "  1346269],\n",
       " 1346269)"
      ]
     },
     "execution_count": 27,
     "metadata": {},
     "output_type": "execute_result"
    }
   ],
   "source": [
    "fibonaci(30)"
   ]
  },
  {
   "cell_type": "code",
   "execution_count": 28,
   "metadata": {},
   "outputs": [],
   "source": [
    "def contFrac(x, k):\n",
    "    cf = []\n",
    "    q = math.floor(x)\n",
    "    cf.append(q)\n",
    "    x = x - q\n",
    "    i = 0\n",
    "    while x != 0 and i < k:\n",
    "        q = math.floor(1 / x)\n",
    "        cf.append(q)\n",
    "        x = 1 / x - q\n",
    "        i = i + 1\n",
    "    return cf"
   ]
  },
  {
   "cell_type": "code",
   "execution_count": 29,
   "metadata": {},
   "outputs": [
    {
     "data": {
      "text/plain": [
       "[5.0]"
      ]
     },
     "execution_count": 29,
     "metadata": {},
     "output_type": "execute_result"
    }
   ],
   "source": [
    "contFrac(5,3)"
   ]
  },
  {
   "cell_type": "code",
   "execution_count": 30,
   "metadata": {},
   "outputs": [],
   "source": [
    "def inversemodulaire(a,n):#inverse modulaire avec euclide\n",
    "    r=euclidetendu(a,n)[1]\n",
    "    if(euclidetendu(a,n)[0]!=1):\n",
    "        print(\"impossible\")\n",
    "        return 0\n",
    "    if (r<0):\n",
    "        r=r+n\n",
    "    return r"
   ]
  },
  {
   "cell_type": "code",
   "execution_count": 31,
   "metadata": {},
   "outputs": [
    {
     "data": {
      "text/plain": [
       "3"
      ]
     },
     "execution_count": 31,
     "metadata": {},
     "output_type": "execute_result"
    }
   ],
   "source": [
    "inversemodulaire(3,4)"
   ]
  },
  {
   "cell_type": "code",
   "execution_count": 32,
   "metadata": {},
   "outputs": [],
   "source": [
    "def theoremechinois(a1,a2,a3,a4,n1,n2,n3,n4):\n",
    "    N=n1*n2*n3*n4\n",
    "    N1=N/n1\n",
    "    N2=N/n2\n",
    "    N3=N/n3\n",
    "    N4=N/n4\n",
    "    F1=inversemodulaire(N1,n1)\n",
    "    F2=inversemodulaire(N2,n2)\n",
    "    F3=inversemodulaire(N3,n3)\n",
    "    F4=inversemodulaire(N4,n4)\n",
    "    X=N1*a1*F1+N2*a2*F2+N3*a3*F3+N4*a4*F4\n",
    "    return(X)\n",
    "    "
   ]
  },
  {
   "cell_type": "code",
   "execution_count": 33,
   "metadata": {},
   "outputs": [
    {
     "name": "stdout",
     "output_type": "stream",
     "text": [
      "1\n",
      "6\n",
      "8\n",
      "12\n"
     ]
    }
   ],
   "source": [
    "a=theoremechinois(1,6,8,12,2,7,11,19)\n",
    "print(a%2)\n",
    "print(a%7)\n",
    "print(a%11)\n",
    "print(a%19)"
   ]
  },
  {
   "cell_type": "code",
   "execution_count": 34,
   "metadata": {},
   "outputs": [],
   "source": [
    "def puissancemodulairepremier(x,m,p):#puissance modulaire pour p premier\n",
    "    if (m>p):\n",
    "        x=exp2(x,m-p+1)\n",
    "    else :\n",
    "        x=exp2(x,m,c)\n",
    "    return x%p\n",
    "    \n",
    "    "
   ]
  },
  {
   "cell_type": "code",
   "execution_count": 35,
   "metadata": {},
   "outputs": [
    {
     "data": {
      "text/plain": [
       "3"
      ]
     },
     "execution_count": 35,
     "metadata": {},
     "output_type": "execute_result"
    }
   ],
   "source": [
    "puissancemodulairepremier(3,13,5)"
   ]
  },
  {
   "cell_type": "code",
   "execution_count": 36,
   "metadata": {},
   "outputs": [],
   "source": [
    "def exponentiationdematrices(A,y):#exoinentiationrapide de matrice\n",
    "    N=A.nrows()\n",
    "    h=matrix.identity(ZZ,N)\n",
    "    c=A\n",
    "    k=y\n",
    "    while(k>0):\n",
    "        if (k%2)==1:\n",
    "            h=h*c\n",
    "        else:\n",
    "            h=h*1\n",
    "        c=c*c\n",
    "        k=k//2\n",
    "    return h"
   ]
  },
  {
   "cell_type": "code",
   "execution_count": 40,
   "metadata": {},
   "outputs": [
    {
     "name": "stdout",
     "output_type": "stream",
     "text": [
      "[3 4 9]\n",
      "[6 4 7]\n",
      "[9 5 7]\n"
     ]
    },
    {
     "data": {
      "text/plain": [
       "[1 0 0]\n",
       "[0 1 0]\n",
       "[0 0 1]"
      ]
     },
     "execution_count": 40,
     "metadata": {},
     "output_type": "execute_result"
    }
   ],
   "source": [
    "A=Matrix(3,[3,4,9,6,4,7,9,5,7])\n",
    "B=matrix.identity(ZZ,3)\n",
    "print(A)\n",
    "exponentiationdematrices(B,30)"
   ]
  },
  {
   "cell_type": "code",
   "execution_count": 38,
   "metadata": {},
   "outputs": [],
   "source": [
    "def reccurencelineaire(A,X):#les a sont les coeff et les B sont les XI\n",
    "    R=[]\n",
    "    R.append(X[0]*A[0])\n",
    "    for i in range(1,len(A)):\n",
    "        R.append(R[i-1]+X[i]*A[i])\n",
    "    return R\n",
    "        \n",
    "        "
   ]
  },
  {
   "cell_type": "code",
   "execution_count": 39,
   "metadata": {},
   "outputs": [
    {
     "data": {
      "text/plain": [
       "[60, 66, 129]"
      ]
     },
     "execution_count": 39,
     "metadata": {},
     "output_type": "execute_result"
    }
   ],
   "source": [
    "R=[6,2,9]\n",
    "C=[10,3,7]\n",
    "reccurencelineaire(R,C)\n",
    "\n"
   ]
  },
  {
   "cell_type": "code",
   "execution_count": null,
   "metadata": {},
   "outputs": [],
   "source": []
  }
 ],
 "metadata": {
  "kernelspec": {
   "display_name": "SageMath 8.1",
   "language": "",
   "name": "sagemath"
  },
  "language_info": {
   "codemirror_mode": {
    "name": "ipython",
    "version": 2
   },
   "file_extension": ".py",
   "mimetype": "text/x-python",
   "name": "python",
   "nbconvert_exporter": "python",
   "pygments_lexer": "ipython2",
   "version": "2.7.15rc1"
  }
 },
 "nbformat": 4,
 "nbformat_minor": 2
}
